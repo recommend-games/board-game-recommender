{
 "cells": [
  {
   "cell_type": "code",
   "execution_count": null,
   "id": "31b02382-d6ff-4065-8150-d42762430416",
   "metadata": {},
   "outputs": [],
   "source": [
    "from board_game_recommender.trust import user_trust"
   ]
  },
  {
   "cell_type": "code",
   "execution_count": null,
   "id": "df874fe8-715d-4f8c-82e0-e2c3f12c9df4",
   "metadata": {},
   "outputs": [],
   "source": [
    "trust = user_trust('../board-game-data/scraped/bgg_RatingItem.jl')\n",
    "trust.shape"
   ]
  },
  {
   "cell_type": "code",
   "execution_count": null,
   "id": "4c948242-8aff-48c7-b092-29082b24964e",
   "metadata": {},
   "outputs": [],
   "source": [
    "trust.sort_values(ascending=False).head(30)"
   ]
  },
  {
   "cell_type": "code",
   "execution_count": null,
   "id": "bb49b45d-69a1-44f4-937b-8d48eab77e26",
   "metadata": {},
   "outputs": [],
   "source": [
    "trust[trust>0].describe()"
   ]
  },
  {
   "cell_type": "code",
   "execution_count": null,
   "id": "02d5ffee-0fe5-4005-a26a-d2bdb8b533bd",
   "metadata": {},
   "outputs": [],
   "source": [
    "trust[trust.index.isin(['markus shepherd','tomvasel','quinns','nickolaskola'])]"
   ]
  },
  {
   "cell_type": "code",
   "execution_count": null,
   "id": "eb9dcf61-96ad-44ba-889c-952caab50384",
   "metadata": {},
   "outputs": [],
   "source": [
    "trust[trust>0].hist(bins=100)"
   ]
  }
 ],
 "metadata": {
  "kernelspec": {
   "display_name": "Python 3 (ipykernel)",
   "language": "python",
   "name": "python3"
  },
  "language_info": {
   "codemirror_mode": {
    "name": "ipython",
    "version": 3
   },
   "file_extension": ".py",
   "mimetype": "text/x-python",
   "name": "python",
   "nbconvert_exporter": "python",
   "pygments_lexer": "ipython3",
   "version": "3.8.11"
  }
 },
 "nbformat": 4,
 "nbformat_minor": 5
}
