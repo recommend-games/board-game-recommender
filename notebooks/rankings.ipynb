{
 "cells": [
  {
   "cell_type": "code",
   "execution_count": null,
   "id": "ffe3b4f8-1061-4fd5-85e4-92b06a3b91e6",
   "metadata": {},
   "outputs": [],
   "source": [
    "from board_game_recommender import BGGRecommender\n",
    "from board_game_recommender.rankings import calculate_rankings\n",
    "\n",
    "%load_ext nb_black\n",
    "%load_ext lab_black"
   ]
  },
  {
   "cell_type": "code",
   "execution_count": null,
   "id": "390de2d1-be5f-437f-b184-d5d57e665520",
   "metadata": {},
   "outputs": [],
   "source": [
    "recommender = BGGRecommender.load(\"../../recommend-games-server/data/recommender_bgg/\")\n",
    "recommender"
   ]
  },
  {
   "cell_type": "code",
   "execution_count": null,
   "id": "878b7ae5-fd66-46e1-a4cc-e09590b67253",
   "metadata": {},
   "outputs": [],
   "source": [
    "rankings = calculate_rankings(\n",
    "    recommender=recommender,\n",
    "    path_ratings=\"../../board-game-data/scraped/bgg_RatingItem.jl\",\n",
    "    top=100,\n",
    "    min_ratings=10,\n",
    ")\n",
    "rankings.shape"
   ]
  },
  {
   "cell_type": "code",
   "execution_count": null,
   "id": "0cb93aca-310b-4e00-a47d-35c17173994d",
   "metadata": {},
   "outputs": [],
   "source": [
    "rankings"
   ]
  }
 ],
 "metadata": {
  "kernelspec": {
   "display_name": "Python 3 (ipykernel)",
   "language": "python",
   "name": "python3"
  },
  "language_info": {
   "codemirror_mode": {
    "name": "ipython",
    "version": 3
   },
   "file_extension": ".py",
   "mimetype": "text/x-python",
   "name": "python",
   "nbconvert_exporter": "python",
   "pygments_lexer": "ipython3",
   "version": "3.8.12"
  }
 },
 "nbformat": 4,
 "nbformat_minor": 5
}
