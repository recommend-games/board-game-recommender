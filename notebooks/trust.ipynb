{
 "cells": [
  {
   "cell_type": "code",
   "execution_count": null,
   "id": "31b02382-d6ff-4065-8150-d42762430416",
   "metadata": {},
   "outputs": [],
   "source": [
    "import turicreate as tc\n",
    "from board_game_recommender import BGGRecommender\n",
    "import statsmodels.api as sm\n",
    "from statsmodels.stats.diagnostic import lilliefors\n",
    "from scipy.stats import kstest, shapiro, norm\n",
    "from sklearn.preprocessing import scale\n",
    "import pylab\n",
    "from random import randint"
   ]
  },
  {
   "cell_type": "code",
   "execution_count": null,
   "id": "e8ed623e-bdc8-4bbb-b7fe-a75077f99211",
   "metadata": {},
   "outputs": [],
   "source": [
    "recommender = BGGRecommender.load('../recommend-games-server/data/recommender_bgg')\n",
    "columns = BGGRecommender.columns_ratings\n",
    "columns['updated_at'] = str\n",
    "ratings = BGGRecommender.load_ratings_json('../board-game-data/scraped/bgg_RatingItem.jl', columns=columns)\n",
    "ratings['month'] = ratings['updated_at'].apply(lambda x: x[:7] if isinstance(x,str) else None)\n",
    "ratings.shape"
   ]
  },
  {
   "cell_type": "code",
   "execution_count": null,
   "id": "9cb55d9b-de2e-4936-a4e3-ea6997356ee3",
   "metadata": {},
   "outputs": [],
   "source": [
    "ratings[randint(0,len(ratings))]"
   ]
  },
  {
   "cell_type": "code",
   "execution_count": null,
   "id": "badbbaf8-8aaf-4408-bafa-c2270153c552",
   "metadata": {},
   "outputs": [],
   "source": [
    "ms = ratings[ratings['bgg_user_name'] == 'markus shepherd'].to_dataframe()\n",
    "tv = ratings[ratings['bgg_user_name'] == 'tomvasel'].to_dataframe()\n",
    "qs = ratings[ratings['bgg_user_name'] == 'quinns'].to_dataframe()\n",
    "nk = ratings[ratings['bgg_user_name'] == 'nickolaskola'].to_dataframe()\n",
    "ms.shape, tv.shape, qs.shape, nk.shape"
   ]
  },
  {
   "cell_type": "code",
   "execution_count": null,
   "id": "70c7ba1a-f818-4bf8-acf5-c0cf1095efea",
   "metadata": {},
   "outputs": [],
   "source": [
    "ms.bgg_user_rating.hist(bins=10)"
   ]
  },
  {
   "cell_type": "code",
   "execution_count": null,
   "id": "a789ba6a-f924-4a3f-b5b4-03269c0bdcd4",
   "metadata": {},
   "outputs": [],
   "source": [
    "tv.bgg_user_rating.hist(bins=10)"
   ]
  },
  {
   "cell_type": "code",
   "execution_count": null,
   "id": "9fc20b20-60c6-4054-a567-103484034d06",
   "metadata": {},
   "outputs": [],
   "source": [
    "qs.bgg_user_rating.hist(bins=10)"
   ]
  },
  {
   "cell_type": "code",
   "execution_count": null,
   "id": "9183ef7b-f0c3-433c-9e83-b8e8e8bbe79e",
   "metadata": {},
   "outputs": [],
   "source": [
    "nk.bgg_user_rating.hist(bins=10)"
   ]
  },
  {
   "cell_type": "code",
   "execution_count": null,
   "id": "f6c22351-33f4-45ea-a944-44351c7d617c",
   "metadata": {},
   "outputs": [],
   "source": [
    "sm.qqplot(scale(ms.bgg_user_rating), line='45')\n",
    "pylab.show()"
   ]
  },
  {
   "cell_type": "code",
   "execution_count": null,
   "id": "34ef651f-e6a8-4827-9d4f-7426d26c413a",
   "metadata": {},
   "outputs": [],
   "source": [
    "sm.qqplot(scale(tv.bgg_user_rating), line='45')\n",
    "pylab.show()"
   ]
  },
  {
   "cell_type": "code",
   "execution_count": null,
   "id": "5136c21d-a8ac-4ae2-895e-04101638eca4",
   "metadata": {},
   "outputs": [],
   "source": [
    "sm.qqplot(scale(qs.bgg_user_rating), line='45')\n",
    "pylab.show()"
   ]
  },
  {
   "cell_type": "code",
   "execution_count": null,
   "id": "0c20da44-a2fe-4b6b-95a1-a84aebd4bab8",
   "metadata": {},
   "outputs": [],
   "source": [
    "sm.qqplot(scale(nk.bgg_user_rating), line='45')\n",
    "pylab.show()"
   ]
  },
  {
   "cell_type": "code",
   "execution_count": null,
   "id": "d53c6a03-c358-4d43-b616-73f9e9f8582a",
   "metadata": {},
   "outputs": [],
   "source": [
    "kstest(scale(ms.bgg_user_rating), 'norm')"
   ]
  },
  {
   "cell_type": "code",
   "execution_count": null,
   "id": "c47866a3-8013-4573-b9c2-3e34e735a909",
   "metadata": {},
   "outputs": [],
   "source": [
    "kstest(scale(tv.bgg_user_rating), 'norm')"
   ]
  },
  {
   "cell_type": "code",
   "execution_count": null,
   "id": "54ee609b-1ee5-4912-aece-b9ee5aba45ce",
   "metadata": {},
   "outputs": [],
   "source": [
    "kstest(scale(qs.bgg_user_rating), 'norm')"
   ]
  },
  {
   "cell_type": "code",
   "execution_count": null,
   "id": "574bf964-4580-4731-9f2e-3f5831257501",
   "metadata": {},
   "outputs": [],
   "source": [
    "kstest(scale(nk.bgg_user_rating), 'norm')"
   ]
  },
  {
   "cell_type": "code",
   "execution_count": null,
   "id": "53f9a87a-76c1-4884-a1e6-7736ec380597",
   "metadata": {},
   "outputs": [],
   "source": [
    "lilliefors(scale(ms.bgg_user_rating))"
   ]
  },
  {
   "cell_type": "code",
   "execution_count": null,
   "id": "691e2ed4-d876-4084-aac5-2bcc8ed9eeb7",
   "metadata": {},
   "outputs": [],
   "source": [
    "lilliefors(scale(tv.bgg_user_rating))"
   ]
  },
  {
   "cell_type": "code",
   "execution_count": null,
   "id": "81fbee1d-2776-4796-8e28-a3b490ea6311",
   "metadata": {},
   "outputs": [],
   "source": [
    "lilliefors(scale(qs.bgg_user_rating))"
   ]
  },
  {
   "cell_type": "code",
   "execution_count": null,
   "id": "742b311c-259b-4071-8dcf-d1ec3c42821e",
   "metadata": {},
   "outputs": [],
   "source": [
    "lilliefors(scale(nk.bgg_user_rating))"
   ]
  },
  {
   "cell_type": "code",
   "execution_count": null,
   "id": "f88ed82e-1259-43f5-9ad3-4f7c067d82c9",
   "metadata": {},
   "outputs": [],
   "source": [
    "shapiro(scale(ms.bgg_user_rating))"
   ]
  },
  {
   "cell_type": "code",
   "execution_count": null,
   "id": "4ab5e361-3034-4f60-b7b8-63e52fcf28ec",
   "metadata": {},
   "outputs": [],
   "source": [
    "shapiro(scale(tv.bgg_user_rating))"
   ]
  },
  {
   "cell_type": "code",
   "execution_count": null,
   "id": "f16802c3-5d76-424c-9c0e-093548c527f8",
   "metadata": {},
   "outputs": [],
   "source": [
    "shapiro(scale(qs.bgg_user_rating))"
   ]
  },
  {
   "cell_type": "code",
   "execution_count": null,
   "id": "5e036ca4-f744-4e88-9669-ffd1a63f7e9b",
   "metadata": {},
   "outputs": [],
   "source": [
    "shapiro(scale(nk.bgg_user_rating))"
   ]
  },
  {
   "cell_type": "code",
   "execution_count": null,
   "id": "114b0582-3fe2-4d7a-928a-b70a710e2fb5",
   "metadata": {},
   "outputs": [],
   "source": [
    "shapiro([-1,0,0,0.1,0.1,0.1,0.1,0,0,10])"
   ]
  }
 ],
 "metadata": {
  "kernelspec": {
   "display_name": "Python 3 (ipykernel)",
   "language": "python",
   "name": "python3"
  },
  "language_info": {
   "codemirror_mode": {
    "name": "ipython",
    "version": 3
   },
   "file_extension": ".py",
   "mimetype": "text/x-python",
   "name": "python",
   "nbconvert_exporter": "python",
   "pygments_lexer": "ipython3",
   "version": "3.8.11"
  }
 },
 "nbformat": 4,
 "nbformat_minor": 5
}
