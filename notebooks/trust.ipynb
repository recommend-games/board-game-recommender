{
 "cells": [
  {
   "cell_type": "code",
   "execution_count": null,
   "id": "31b02382-d6ff-4065-8150-d42762430416",
   "metadata": {},
   "outputs": [],
   "source": [
    "import turicreate as tc\n",
    "from board_game_recommender.trust import user_trust\n",
    "\n",
    "%load_ext nb_black\n",
    "%load_ext lab_black"
   ]
  },
  {
   "cell_type": "code",
   "execution_count": null,
   "id": "df874fe8-715d-4f8c-82e0-e2c3f12c9df4",
   "metadata": {},
   "outputs": [],
   "source": [
    "trust = user_trust(\"../../board-game-data/scraped/bgg_RatingItem.jl\")\n",
    "trust.shape"
   ]
  },
  {
   "cell_type": "code",
   "execution_count": null,
   "id": "4c948242-8aff-48c7-b092-29082b24964e",
   "metadata": {},
   "outputs": [],
   "source": [
    "trust.sort(\"trust\", ascending=False)"
   ]
  },
  {
   "cell_type": "code",
   "execution_count": null,
   "id": "02d5ffee-0fe5-4005-a26a-d2bdb8b533bd",
   "metadata": {},
   "outputs": [],
   "source": [
    "trust[\n",
    "    trust[\"bgg_user_name\"].is_in(\n",
    "        [\n",
    "            \"markus shepherd\",\n",
    "            \"tomvasel\",\n",
    "            \"quinns\",\n",
    "            \"nickolaskola\",\n",
    "            \"jonpurkis\",\n",
    "        ]\n",
    "    )\n",
    "].sort(\"trust\", ascending=False)"
   ]
  },
  {
   "cell_type": "code",
   "execution_count": null,
   "id": "eb9dcf61-96ad-44ba-889c-952caab50384",
   "metadata": {},
   "outputs": [],
   "source": [
    "s = trust[\"trust\"]\n",
    "tc.visualization.histogram(s[s > 0])"
   ]
  }
 ],
 "metadata": {
  "kernelspec": {
   "display_name": "Python 3 (ipykernel)",
   "language": "python",
   "name": "python3"
  },
  "language_info": {
   "codemirror_mode": {
    "name": "ipython",
    "version": 3
   },
   "file_extension": ".py",
   "mimetype": "text/x-python",
   "name": "python",
   "nbconvert_exporter": "python",
   "pygments_lexer": "ipython3",
   "version": "3.8.12"
  }
 },
 "nbformat": 4,
 "nbformat_minor": 5
}
